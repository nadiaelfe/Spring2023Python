{
 "cells": [
  {
   "cell_type": "markdown",
   "metadata": {},
   "source": [
    "## задача 1\n",
    "Четные индексы"
   ]
  },
  {
   "cell_type": "code",
   "execution_count": 14,
   "metadata": {},
   "outputs": [
    {
     "name": "stdout",
     "output_type": "stream",
     "text": [
      "1 3 5\n"
     ]
    }
   ],
   "source": [
    "print(' '.join(input().split()[0::2]))"
   ]
  },
  {
   "cell_type": "markdown",
   "metadata": {},
   "source": [
    "## exercise 2\n",
    "Наибольший элемент и его индекс"
   ]
  },
  {
   "cell_type": "code",
   "execution_count": 15,
   "metadata": {},
   "outputs": [
    {
     "name": "stdout",
     "output_type": "stream",
     "text": [
      "3 2\n"
     ]
    }
   ],
   "source": [
    "a = input().split()\n",
    "print(max(a), a.index(max(a)))"
   ]
  },
  {
   "cell_type": "markdown",
   "metadata": {},
   "source": [
    "## Exercise 3\n",
    "Вывести в обратном порядке"
   ]
  },
  {
   "cell_type": "code",
   "execution_count": 16,
   "metadata": {},
   "outputs": [
    {
     "name": "stdout",
     "output_type": "stream",
     "text": [
      "5 4 3 2 1\n"
     ]
    }
   ],
   "source": [
    "print(' '.join(input().split()[::-1]))"
   ]
  },
  {
   "cell_type": "markdown",
   "metadata": {},
   "source": [
    "## Exercise 4\n",
    "Переставить соседние"
   ]
  },
  {
   "cell_type": "code",
   "execution_count": 17,
   "metadata": {},
   "outputs": [
    {
     "name": "stdout",
     "output_type": "stream",
     "text": [
      "2 1 4 3 5\n"
     ]
    }
   ],
   "source": [
    "a = input().split()\n",
    "a[0:len(a)-1:2], a[1::2] = a[1::2], a[0:len(a)-1:2]\n",
    "print(' '.join(a))"
   ]
  },
  {
   "cell_type": "markdown",
   "metadata": {},
   "source": [
    "## Exercise 5\n",
    "Циклический сдвиг вправо"
   ]
  },
  {
   "cell_type": "code",
   "execution_count": 18,
   "metadata": {},
   "outputs": [
    {
     "name": "stdout",
     "output_type": "stream",
     "text": [
      "5 1 2 3 4\n"
     ]
    }
   ],
   "source": [
    "a = input().split()\n",
    "print(' '.join([a[len(a)-1]] + a[:len(a)-1]))"
   ]
  },
  {
   "cell_type": "markdown",
   "metadata": {},
   "source": [
    "## Exercise 6\n",
    "Удалить элемент"
   ]
  },
  {
   "cell_type": "code",
   "execution_count": 19,
   "metadata": {},
   "outputs": [
    {
     "name": "stdout",
     "output_type": "stream",
     "text": [
      "7 6 4 3 2 1\n"
     ]
    }
   ],
   "source": [
    "a, n = input().split(), int(input())\n",
    "a.remove(a[n])\n",
    "print(' '.join(a))"
   ]
  },
  {
   "cell_type": "markdown",
   "metadata": {},
   "source": [
    "## Exercise 7\n",
    "Вставить элемент"
   ]
  },
  {
   "cell_type": "code",
   "execution_count": 20,
   "metadata": {},
   "outputs": [
    {
     "name": "stdout",
     "output_type": "stream",
     "text": [
      "7 6 0 5 4 3 2 1\n"
     ]
    }
   ],
   "source": [
    "a = input().split()\n",
    "n, elem = map(int, input().split())\n",
    "print(' '.join(a[:n] + [f\"{elem}\"] + a[n:]))"
   ]
  },
  {
   "cell_type": "markdown",
   "metadata": {},
   "source": [
    "## Exercise 8\n",
    "Большой сдвиг"
   ]
  },
  {
   "cell_type": "code",
   "execution_count": 21,
   "metadata": {},
   "outputs": [
    {
     "name": "stdout",
     "output_type": "stream",
     "text": [
      "7 4 6 5 3\n"
     ]
    }
   ],
   "source": [
    "a, n = input().split(), int(input())\n",
    "print(' '.join(a[n-1:] + a[:n-1]))"
   ]
  }
 ],
 "metadata": {
  "interpreter": {
   "hash": "cad75aa1df1c9f41d71a52c1be3a6aca05c0ab757d37a973486eb3342a3dc86f"
  },
  "kernelspec": {
   "display_name": "Python 3.9.12 ('base')",
   "language": "python",
   "name": "python3"
  },
  "language_info": {
   "codemirror_mode": {
    "name": "ipython",
    "version": 3
   },
   "file_extension": ".py",
   "mimetype": "text/x-python",
   "name": "python",
   "nbconvert_exporter": "python",
   "pygments_lexer": "ipython3",
   "version": "3.9.12"
  }
 },
 "nbformat": 4,
 "nbformat_minor": 2
}
