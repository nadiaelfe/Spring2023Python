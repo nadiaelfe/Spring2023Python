{
 "cells": [
  {
   "cell_type": "markdown",
   "metadata": {},
   "source": [
    "## 4-е домашнее задание - Библиотека numpy\n",
    "\n",
    "Подпишите этот блокнот: укажите ФИО и номер группы. Выполненное задание загрузите в свой репозиторий «<b>Spring2023Python</b>» в github в папку \"<b>homework04</b>\".  \n",
    "\n",
    "Перед выполнением этого домашнего задания полезно прочитать про возможности и основные методы библиотеки numpy:  \n",
    "http://acm.mipt.ru/twiki/bin/view/Cintro/PythonNumpy  \n"
   ]
  },
  {
   "cell_type": "code",
   "execution_count": 6,
   "metadata": {},
   "outputs": [
    {
     "ename": "ModuleNotFoundError",
     "evalue": "No module named 'numpy'",
     "output_type": "error",
     "traceback": [
      "\u001b[0;31m---------------------------------------------------------------------------\u001b[0m",
      "\u001b[0;31mModuleNotFoundError\u001b[0m                       Traceback (most recent call last)",
      "Cell \u001b[0;32mIn[6], line 1\u001b[0m\n\u001b[0;32m----> 1\u001b[0m \u001b[38;5;28;01mimport\u001b[39;00m \u001b[38;5;21;01mnumpy\u001b[39;00m \u001b[38;5;28;01mas\u001b[39;00m \u001b[38;5;21;01mnp\u001b[39;00m\n",
      "\u001b[0;31mModuleNotFoundError\u001b[0m: No module named 'numpy'"
     ]
    }
   ],
   "source": [
    "import numpy as np"
   ]
  },
  {
   "cell_type": "markdown",
   "metadata": {},
   "source": [
    "1.\tСоздайте равномерное разбиение интервала от -1.3 до 2.5 на 64 отрезка."
   ]
  },
  {
   "cell_type": "code",
   "execution_count": 3,
   "metadata": {},
   "outputs": [
    {
     "ename": "NameError",
     "evalue": "name 'np' is not defined",
     "output_type": "error",
     "traceback": [
      "\u001b[0;31m---------------------------------------------------------------------------\u001b[0m",
      "\u001b[0;31mNameError\u001b[0m                                 Traceback (most recent call last)",
      "Cell \u001b[0;32mIn[3], line 1\u001b[0m\n\u001b[0;32m----> 1\u001b[0m arr2 \u001b[38;5;241m=\u001b[39m \u001b[43mnp\u001b[49m\u001b[38;5;241m.\u001b[39mlinespace(\u001b[38;5;241m-\u001b[39m\u001b[38;5;241m1.3\u001b[39m, \u001b[38;5;241m2.5\u001b[39m, \u001b[38;5;241m65\u001b[39m)\n\u001b[1;32m      2\u001b[0m arr2\n",
      "\u001b[0;31mNameError\u001b[0m: name 'np' is not defined"
     ]
    }
   ],
   "source": [
    "arr2 = np.linespace(-1.3, 2.5, 65)\n",
    "arr2"
   ]
  },
  {
   "cell_type": "markdown",
   "metadata": {},
   "source": [
    "2.\tСгенерируйте numpy массив длины $3n$, заполненный циклически числами 1, 2, 3, 1, 2, 3, 1...."
   ]
  },
  {
   "cell_type": "code",
   "execution_count": null,
   "metadata": {},
   "outputs": [],
   "source": [
    "n =10\n",
    "np.array([1,2,3] * n)"
   ]
  },
  {
   "cell_type": "markdown",
   "metadata": {},
   "source": [
    "3.\tСоздайте массив первых 10 нечетных целых чисел."
   ]
  },
  {
   "cell_type": "code",
   "execution_count": null,
   "metadata": {},
   "outputs": [],
   "source": [
    "number_even = 10\n",
    "arr = np.arange(1, 2 *number_even, 2)\n",
    "arr"
   ]
  },
  {
   "cell_type": "markdown",
   "metadata": {},
   "source": [
    "4.  Создайте массив нулей размера 10 x 10, а затем создайте в нём \"рамку\" из единиц по краям."
   ]
  },
  {
   "cell_type": "code",
   "execution_count": null,
   "metadata": {},
   "outputs": [],
   "source": [
    "matrix = np.zeros((10,10))\n",
    "matrix[0, :] = 1\n",
    "matrix[9, :] = 1\n",
    "matrix[:, 0] = 1\n",
    "matrix[:, 9] = 1\n",
    "matrix"
   ]
  },
  {
   "cell_type": "markdown",
   "metadata": {},
   "source": [
    "5.  Создайте массив 8 x 8 с шахматной доской из нулей и единиц."
   ]
  },
  {
   "cell_type": "code",
   "execution_count": null,
   "metadata": {},
   "outputs": [],
   "source": [
    "matrix = np.zeros((8,8))\n",
    "matrix[::2,::2] = 1\n",
    "matrix[1::2,1::2] = 1\n",
    "matrix\n"
   ]
  },
  {
   "cell_type": "markdown",
   "metadata": {},
   "source": [
    "6.  Создайте функцию, которая создает $n×n$ матрицу с $(i,j)$-элементом, равным $i+j$."
   ]
  },
  {
   "cell_type": "code",
   "execution_count": null,
   "metadata": {},
   "outputs": [],
   "source": [
    "n = 10\n",
    "matrix = np.zeros((n, n))\n",
    "for i in range(n):\n",
    "    for j in range(n):\n",
    "        matrix[i][j] = i + j\n",
    "matrix"
   ]
  },
  {
   "cell_type": "markdown",
   "metadata": {},
   "source": [
    "7. Примените функцию dot для перемножения вектор на вектор, матрицу на вектор и матрицу на матрицу."
   ]
  },
  {
   "cell_type": "code",
   "execution_count": null,
   "metadata": {},
   "outputs": [],
   "source": [
    "vect1 = np.array([[1, 2, 3]])\n",
    "vect2 = np.array([[1], [2], [3]])\n",
    "matrix = np.array([[1, 2, 3], [2, 1, 4], [3, 9, 5]])\n",
    "matrix2 = np.array([[1, 2], [1, 2], [4, 5]])\n",
    "print(np.dot(vect1, vect2))\n",
    "print(np.dot(matrix, vect2))\n",
    "print(np.dot(matrix, matrix2))"
   ]
  },
  {
   "cell_type": "markdown",
   "metadata": {},
   "source": [
    "8. Вычислите cos(x) и sin(x) на интервале [0,1] с шагом $0.05$, а затем объедините оба массива чисел как строки в один массив."
   ]
  },
  {
   "cell_type": "code",
   "execution_count": null,
   "metadata": {},
   "outputs": [],
   "source": [
    "cosinus = np.cos(np.linspace(0, 1, int(1/0.05)))\n",
    "sinus = np.sin(np.linspace(0, 1, int(1/0.05)))\n",
    "\n",
    "list(cosinus)+list(sinus)"
   ]
  },
  {
   "cell_type": "markdown",
   "metadata": {},
   "source": [
    "9. Создайте матрицу $A$ размера $3×5$ из случайных чисел с равномерным распределением на отрезке $[-1,3]$ (используйте np.random.rand)"
   ]
  },
  {
   "cell_type": "code",
   "execution_count": null,
   "metadata": {},
   "outputs": [],
   "source": [
    "matrix = np.random.rand(3,5)*4-1\n",
    "matrix"
   ]
  },
  {
   "cell_type": "markdown",
   "metadata": {},
   "source": [
    "10. Найдите сумму всех элементов, сумму внутри строк, сумму внутри столбцов, а также среднее значение, дисперсию и стандартное отклонение чисел для каждой строки матрицы $A$. (Подобно тому, как sorted имеет необязательный аргумент key=, многие функции Numpy имеют необязательный аргумент axis=)\n"
   ]
  },
  {
   "cell_type": "code",
   "execution_count": null,
   "metadata": {},
   "outputs": [],
   "source": [
    "print(matrix.sum())\n",
    "print(matrix.sum(0)) # сумма по столбцам\n",
    "print(matrix.sum(1)) # сумма по строкам\n",
    "print(matrix.mean(1)) # среднее значение по строкам\n",
    "print(matrix.var(1)) # дисперсия по строкам\n",
    "print(matrix.std(1)) # ст. откл. по строкам"
   ]
  },
  {
   "cell_type": "markdown",
   "metadata": {},
   "source": [
    "11.  Отнимите от каждого элемента матрицы $A$ среднее по строке и поделите на стандартное отклонение строки."
   ]
  },
  {
   "cell_type": "code",
   "execution_count": null,
   "metadata": {},
   "outputs": [],
   "source": [
    "for i in range(len(matrix)):\n",
    "    matrix[i,:] -= matrix.mean(1)[i]\n",
    "    matrix[i,:] /= matrix.std(1)[i]\n",
    "matrix"
   ]
  },
  {
   "cell_type": "markdown",
   "metadata": {},
   "source": [
    "12. Отсортируйте матрицу $A$ по 3-ому столбцу, т.е. поменяйте местами строки матрицы так, чтобы 3-й столбец оказался отсортированным. Используйте для этого slicing + argsort + indexing."
   ]
  },
  {
   "cell_type": "code",
   "execution_count": null,
   "metadata": {},
   "outputs": [],
   "source": [
    "matrix[matrix[:, 2].argsort()]\n"
   ]
  },
  {
   "cell_type": "markdown",
   "metadata": {},
   "source": [
    "13. Посчитайте две матрицы: $B = A^TA$ и $C = AA^T$. Что вы можете о них сказать? Какого они размера? В чём их сходство и отличие?"
   ]
  },
  {
   "cell_type": "code",
   "execution_count": null,
   "metadata": {},
   "outputs": [],
   "source": [
    "b = np.dot(np.transpose(matrix), matrix)\n",
    "c = np.dot(matrix, np.transpose(matrix))\n",
    "print(b)\n",
    "print(c)"
   ]
  },
  {
   "cell_type": "markdown",
   "metadata": {},
   "source": [
    "14. Найдите сумму диагональных элементов матриц $B$ и $C$."
   ]
  },
  {
   "cell_type": "code",
   "execution_count": null,
   "metadata": {},
   "outputs": [],
   "source": [
    "np.sum(np.diagonal(b)) + np.sum(np.diagonal(c))\n"
   ]
  },
  {
   "cell_type": "markdown",
   "metadata": {},
   "source": [
    "15.\tПосчитайте детерминант и ранг матриц $A$, $B$ и $C$, посмотрите на спектр (набор собственных значений) матриц $B$ и $C$, какие выводы вы можете сделать?  \n",
    "(подсказка: используйте готовые функции из библиотеки np.linalg). \n"
   ]
  },
  {
   "cell_type": "code",
   "execution_count": null,
   "metadata": {},
   "outputs": [],
   "source": [
    "#print(np.linalg.det(matrix)) A не квадратная, ошибка.\n",
    "print(np.linalg.det(b))\n",
    "print(np.linalg.det(c))\n",
    "print(np.linalg.matrix_rank(matrix))\n",
    "print(np.linalg.matrix_rank(b))\n",
    "print(np.linalg.matrix_rank(c))\n",
    "w_b, v_b = np.linalg.eig(b)\n",
    "w_c, v_b = np.linalg.eig(c)\n",
    "print(w_b)\n",
    "print(w_c)"
   ]
  },
  {
   "cell_type": "markdown",
   "metadata": {},
   "source": [
    "16. Численно посчитать определённый интеграл  3-мя методами:  \n",
    "a)\tПрямоугольников $\\int\\limits_a^b {f(x)dx \\approx \\Delta x\\sum\\limits_{k = 0}^N {f({x_k})} }$  \n",
    "b)\tТрапеций $\\int\\limits_a^b {f(x)dx \\approx \\frac{{\\Delta x}}{2}\\left( {f({x_0}) + 2\\sum\\limits_{k = 1}^{N - 1} {f({x_k})}  + f({x_N})} \\right)}$  \n",
    "c)\tПо правилу Симпсона  $\\int\\limits_a^b {f(x)dx \\approx \\frac{{\\Delta x}}{3}\\left( {f({x_0}) + 2\\sum\\limits_{k = 1}^{N/2 - 1} {f({x_{2k}})}  + 4\\sum\\limits_{k = 1}^{N/2} {f({x_{2k - 1}})}  + f({x_N})} \\right)}$  \n",
    "\n",
    "\n",
    "В реализации этих методов цикл for для суммирования использовать нельзя.  \n",
    "Нужно посчитать значение интеграла с некоторым шагом интегрирования (например начать с 0.1), потом уменьшить его в десять раз и ещё раз посчитать и так до тех пор пока отличие в ответах будет в 5-м знаке после запятой, т.е. чтобы ошибка была меньше 1e-5. Получить ответы для 3-х разных методов и сделать соответствующие выводы.  \n",
    "\n",
    "Далее необходимо сравнить полученные оценки с аналитическим решением (т.е. формульным, которое вы должны сами посчитать на листочке и вбить формулу-ответ).   \n",
    "\n",
    "В качестве интеграла взять два из следующих примеров:  \n",
    "- один с номером, сгенерированным случайным образом с помощью функции np.random.randint(9), в качестве seed для генератора случайных чисел взять номер своего студенческого билета. \n",
    "- второй номер - под номером 9, несобственный интерграл. Подумайте, как сделать подбор шага интегрирования адаптивным.\n",
    "\n",
    "<table width=\"80%\"\n",
    "       align=\"center\">\n",
    "    <tr>\n",
    "        <td> 0) $\\int\\limits_3^4 {\\frac{{{x^2} + 3}}{{x - 2}}dx}$ </td>\n",
    "        <td> 1) $\\int\\limits_{ - 2}^{ - 1} {\\frac{{x + 1}}{{{x^3} - {x^2}}}dx}$ </td>\n",
    "        <td> 2) $\\int\\limits_1^2 {\\frac{{{e^{1/{x^2}}}}}{{{x^3}}}dx}$ </td>\n",
    "        <td> 3) $\\int\\limits_1^e {\\frac{{\\cos (\\ln x)}}{x}dx}$ </td>\n",
    "        <td> 4) $\\int\\limits_1^e {\\frac{{dx}}{{x(1 + {{\\ln }^2}x)}}}$ </td>\n",
    "    </tr>                \n",
    "    <tr>\n",
    "        <td> 5) $\\int\\limits_0^{\\pi /2} {{{\\cos }^3}\\alpha \\;d\\alpha }$ </td>\n",
    "        <td> 6) $\\int\\limits_0^{1/3} {c{h^2}3x\\;dx}$ </td>\n",
    "        <td> 7) $\\int\\limits_2^3 {\\frac{{dy}}{{{y^2} - 2y - 8}}dy}$ </td>\n",
    "        <td> 8) $\\int\\limits_0^2 {\\frac{{2x - 1}}{{2x + 1}}dx}$ </td>\n",
    "        <td> 9) $\\int\\limits_{3/4}^2 {\\frac{{dx}}{{\\sqrt {2 + 3x - 2{x^2}} }}}$ </td>\n",
    "        </tr>\n",
    "</table>"
   ]
  },
  {
   "cell_type": "code",
   "execution_count": null,
   "metadata": {},
   "outputs": [],
   "source": [
    "np.random.seed(1032201731)\n",
    "np.random.randint(9)"
   ]
  },
  {
   "cell_type": "code",
   "execution_count": null,
   "metadata": {},
   "outputs": [],
   "source": [
    "print('Аналитическое решение интеграла 1: ', -2 * np.log(3) + 4 * np.log(2) - 1/2)\n",
    "print('Аналитическое решение интеграла 2: ', np.pi/(2**(3/2)))"
   ]
  },
  {
   "cell_type": "code",
   "execution_count": null,
   "metadata": {},
   "outputs": [],
   "source": [
    "def func1(x):\n",
    "    return (x+1)/(x**3-x**2)\n",
    "\n",
    "def func2(x):\n",
    "    return 1/np.sqrt(2+3*x-2*x**2, where = x!=2)\n",
    "\n",
    "def solution(func,a, b, dx, method):\n",
    "    n = int((b-a) / dx)\n",
    "    xx = np.linspace(a, b, n)\n",
    "    if method == 'rectangular':\n",
    "        return dx*np.sum(func(xx))\n",
    "    elif method == 'trapezoid':\n",
    "        return dx/2*(func(xx[0]) + 2*np.sum(func(xx[1:-1])) + func(xx[-1]))\n",
    "    elif method == 'simpson':\n",
    "        return dx/3*(func(xx[0]) + 2*np.sum(func(xx[2:-1:2])) + 4*np.sum(func(xx[1:-2:2])) + func(xx[-1]))\n",
    "    else:\n",
    "        return 'Неверный метод'\n",
    "    \n",
    "print('Для интеграла 1:', solution(func1, -2, -1, 0.0001, 'rectangular'), 'Для интеграла 9:', solution(func2, 3/4, 2, 0.0001, 'rectangular') )\n",
    "print('Для интеграла 1:', solution(func1, -2, -1, 0.0001, 'trapezoid'), 'Для интеграла 9:', solution(func2, 3/4, 2, 0.0001, 'trapezoid') )\n",
    "print('Для интеграла 1:', solution(func1, -2, -1, 0.0001, 'simpson'), 'Для интеграла 9:', solution(func2, 3/4, 2, 0.0001, 'simpson') )"
   ]
  }
 ],
 "metadata": {
  "interpreter": {
   "hash": "aee8b7b246df8f9039afb4144a1f6fd8d2ca17a180786b69acc140d282b71a49"
  },
  "kernelspec": {
   "display_name": "Python 3.9.10 64-bit",
   "language": "python",
   "name": "python3"
  },
  "language_info": {
   "codemirror_mode": {
    "name": "ipython",
    "version": 3
   },
   "file_extension": ".py",
   "mimetype": "text/x-python",
   "name": "python",
   "nbconvert_exporter": "python",
   "pygments_lexer": "ipython3",
   "version": "3.9.10"
  }
 },
 "nbformat": 4,
 "nbformat_minor": 2
}
